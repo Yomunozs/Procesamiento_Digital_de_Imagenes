{
  "nbformat": 4,
  "nbformat_minor": 0,
  "metadata": {
    "colab": {
      "provenance": [],
      "authorship_tag": "ABX9TyOVlrlF9UYKsCeXme979e6g",
      "include_colab_link": true
    },
    "kernelspec": {
      "name": "python3",
      "display_name": "Python 3"
    },
    "language_info": {
      "name": "python"
    }
  },
  "cells": [
    {
      "cell_type": "markdown",
      "metadata": {
        "id": "view-in-github",
        "colab_type": "text"
      },
      "source": [
        "<a href=\"https://colab.research.google.com/github/Yomunozs/Procesamiento_Digital_de_Imagenes/blob/main/PDI_python_basics_08_11_2024.ipynb\" target=\"_parent\"><img src=\"https://colab.research.google.com/assets/colab-badge.svg\" alt=\"Open In Colab\"/></a>"
      ]
    },
    {
      "cell_type": "markdown",
      "source": [
        "# Tipos de variables"
      ],
      "metadata": {
        "id": "q6p6PGEHLsGn"
      }
    },
    {
      "cell_type": "code",
      "execution_count": null,
      "metadata": {
        "colab": {
          "base_uri": "https://localhost:8080/"
        },
        "id": "wVK0uO7zJDFe",
        "outputId": "0699c4de-e30c-49f2-c549-c6ff26613c3b"
      },
      "outputs": [
        {
          "output_type": "stream",
          "name": "stdout",
          "text": [
            "La variable 'entero' es de tipo: <class 'int'>\n",
            "La variable 'flotante' es de tipo: <class 'float'>\n",
            "La variable 'cadena' es de tipo: <class 'str'>\n",
            "La variable 'booleano' es de tipo: <class 'bool'>\n",
            "La variable 'lista' es de tipo: <class 'list'>\n",
            "La variable 'tupla' es de tipo: <class 'tuple'>\n",
            "La variable 'diccionario' es de tipo: <class 'dict'>\n",
            "La variable 'conjunto' es de tipo: <class 'set'>\n",
            "El conjunto contiene: {1, 2, 3, 4}\n"
          ]
        }
      ],
      "source": [
        "# prompt: generar una explicacion de tipos de variables, incluyendo los set e imprimir el tipo\n",
        "\n",
        "# Tipos de variables en Python\n",
        "\n",
        "# Enteros (int): Números enteros sin parte decimal.\n",
        "entero = 10\n",
        "print(f\"La variable 'entero' es de tipo: {type(entero)}\")\n",
        "\n",
        "# Flotantes (float): Números con parte decimal.\n",
        "flotante = 3.14\n",
        "print(f\"La variable 'flotante' es de tipo: {type(flotante)}\")\n",
        "\n",
        "# Cadenas de texto (str): Secuencias de caracteres.\n",
        "cadena = \"Hola, mundo!\"\n",
        "print(f\"La variable 'cadena' es de tipo: {type(cadena)}\")\n",
        "\n",
        "# Booleanos (bool): Valores verdadero (True) o falso (False).\n",
        "booleano = True\n",
        "print(f\"La variable 'booleano' es de tipo: {type(booleano)}\")\n",
        "\n",
        "# Listas (list): Colecciones ordenadas y mutables de elementos.\n",
        "lista = [1, 2, 3, \"cuatro\"]\n",
        "print(f\"La variable 'lista' es de tipo: {type(lista)}\")\n",
        "\n",
        "# Tuplas (tuple): Colecciones ordenadas e inmutables de elementos.\n",
        "tupla = (1, 2, 3, \"cuatro\")\n",
        "print(f\"La variable 'tupla' es de tipo: {type(tupla)}\")\n",
        "\n",
        "# Diccionarios (dict): Colecciones de pares clave-valor.\n",
        "diccionario = {\"nombre\": \"Juan\", \"edad\": 30}\n",
        "print(f\"La variable 'diccionario' es de tipo: {type(diccionario)}\")\n",
        "\n",
        "# Conjuntos (set): Colecciones no ordenadas de elementos únicos.\n",
        "conjunto = {1, 2, 3, 3, 4}  # El elemento 3 solo se almacenará una vez\n",
        "print(f\"La variable 'conjunto' es de tipo: {type(conjunto)}\")\n",
        "print(f\"El conjunto contiene: {conjunto}\")"
      ]
    },
    {
      "cell_type": "markdown",
      "source": [
        "# Operaciones entre conjuntos"
      ],
      "metadata": {
        "id": "nv1sMdUhMsy_"
      }
    },
    {
      "cell_type": "code",
      "source": [
        "# prompt: and, or, dif entre conjuntos\n",
        "\n",
        "conjunto1 = {1, 2, 3}\n",
        "conjunto2 = {3, 4, 5}\n",
        "\n",
        "# Unión (OR) de conjuntos: Combina los elementos de ambos conjuntos sin repetición.\n",
        "union_conjuntos = conjunto1 | conjunto2\n",
        "print(f\"Unión de conjuntos: {union_conjuntos}\")\n",
        "\n",
        "# Intersección (AND) de conjuntos: Encuentra los elementos comunes a ambos conjuntos.\n",
        "interseccion_conjuntos = conjunto1 & conjunto2\n",
        "print(f\"Intersección de conjuntos: {interseccion_conjuntos}\")\n",
        "\n",
        "# Diferencia de conjuntos: Encuentra los elementos que están en el primer conjunto pero no en el segundo.\n",
        "diferencia_conjuntos = conjunto1 - conjunto2\n",
        "print(f\"Diferencia de conjuntos (conjunto1 - conjunto2): {diferencia_conjuntos}\")\n",
        "\n",
        "diferencia_conjuntos = conjunto2 - conjunto1\n",
        "print(f\"Diferencia de conjuntos (conjunto2 - conjunto1): {diferencia_conjuntos}\")"
      ],
      "metadata": {
        "colab": {
          "base_uri": "https://localhost:8080/"
        },
        "id": "qR7hcW8HMl42",
        "outputId": "e9cd96ae-0285-4f93-f4d7-fc04e87d54a4"
      },
      "execution_count": null,
      "outputs": [
        {
          "output_type": "stream",
          "name": "stdout",
          "text": [
            "Unión de conjuntos: {1, 2, 3, 4, 5}\n",
            "Intersección de conjuntos: {3}\n",
            "Diferencia de conjuntos (conjunto1 - conjunto2): {1, 2}\n",
            "Diferencia de conjuntos (conjunto2 - conjunto1): {4, 5}\n"
          ]
        }
      ]
    },
    {
      "cell_type": "markdown",
      "source": [
        "# Condicionales\n"
      ],
      "metadata": {
        "id": "gK19xBBVM7T2"
      }
    },
    {
      "cell_type": "code",
      "source": [
        "# prompt: condicionales\n",
        "\n",
        "# <,>, >=, <=, ==, !=\n",
        "\n",
        "# # Condicionales con booleanos\n",
        "\n",
        "# Ejemplo 1: Verificar si un número es mayor que otro\n",
        "numero1 = 10\n",
        "numero2 = 5\n",
        "\n",
        "es_mayor = numero1 > numero2  # Devuelve True si numero1 es mayor que numero2, False en caso contrario\n",
        "\n",
        "if es_mayor:\n",
        "  print(f\"{numero1} es mayor que {numero2}\")\n",
        "else:\n",
        "  print(f\"{numero1} no es mayor que {numero2}\")\n",
        "\n",
        "\n",
        "# Ejemplo 2: Verificar si una cadena está vacía\n",
        "cadena = \"\"\n",
        "\n",
        "esta_vacia = not cadena  # Devuelve True si la cadena está vacía, False en caso contrario\n",
        "if esta_vacia:\n",
        "    print(\"La cadena está vacía\")\n",
        "else:\n",
        "    print(\"La cadena no está vacía\")\n",
        "\n",
        "# Ejemplo 3: Verificar si un elemento está en una lista\n",
        "lista = [1, 2, 3, 4, 5]\n",
        "elemento = 3\n",
        "\n",
        "esta_en_lista = elemento in lista  # Devuelve True si el elemento está en la lista, False en caso contrario\n",
        "\n",
        "if esta_en_lista:\n",
        "    print(f\"{elemento} está en la lista\")\n",
        "else:\n",
        "    print(f\"{elemento} no está en la lista\")\n",
        "\n",
        "\n",
        "# Ejemplo 4: Verificar si un valor es verdadero o falso\n",
        "valor = True\n",
        "\n",
        "if valor:\n",
        "    print(\"El valor es verdadero\")\n",
        "else:\n",
        "    print(\"El valor es falso\")\n",
        "\n",
        "# Ejemplo 5: Condicionales anidadas con booleanos\n",
        "edad = 20\n",
        "es_mayor_de_edad = edad >= 18\n",
        "es_menor_de_edad = edad < 18\n",
        "es_adulto_mayor = edad >= 65\n",
        "\n",
        "\n",
        "if es_mayor_de_edad:\n",
        "    print(\"Es mayor de edad.\")\n",
        "    if es_adulto_mayor:\n",
        "        print(\"Es un adulto mayor.\")\n",
        "\n",
        "elif es_menor_de_edad:\n",
        "  print(\"Es menor de edad.\")\n",
        "\n",
        "# Usando operadores lógicos (and, or, not) con booleanos\n",
        "\n",
        "es_mayor_de_edad_y_adulto_mayor = es_mayor_de_edad and es_adulto_mayor\n",
        "if es_mayor_de_edad_y_adulto_mayor:\n",
        "    print(\"Es mayor de edad y adulto mayor\")\n",
        "\n",
        "es_mayor_de_edad_o_adulto_mayor = es_mayor_de_edad or es_adulto_mayor\n",
        "if es_mayor_de_edad_o_adulto_mayor:\n",
        "    print(\"Es mayor de edad o adulto mayor\")\n"
      ],
      "metadata": {
        "colab": {
          "base_uri": "https://localhost:8080/"
        },
        "id": "bF9RoHFOM_fP",
        "outputId": "b11e6464-c093-46d5-c68d-1c6f5ae5cdd6"
      },
      "execution_count": null,
      "outputs": [
        {
          "output_type": "stream",
          "name": "stdout",
          "text": [
            "10 es mayor que 5\n",
            "La cadena está vacía\n",
            "3 está en la lista\n",
            "El valor es verdadero\n",
            "Es mayor de edad.\n",
            "Es mayor de edad o adulto mayor\n"
          ]
        }
      ]
    },
    {
      "cell_type": "markdown",
      "source": [
        "# Loop\n"
      ],
      "metadata": {
        "id": "xnFyMxY9OFxO"
      }
    },
    {
      "cell_type": "code",
      "source": [
        "# prompt: loop infinito\n",
        "\n",
        "while True:\n",
        "  print(\"Este es un loop infinito.\")\n",
        "  # Puedes agregar código aquí para que el loop haga algo más que imprimir un mensaje.\n",
        "  # Por ejemplo, puedes leer datos de un sensor, procesar imágenes, etc."
      ],
      "metadata": {
        "id": "g-4Dj_0oOFOw"
      },
      "execution_count": null,
      "outputs": []
    },
    {
      "cell_type": "code",
      "source": [
        "a = 0\n",
        "while a < 100:\n",
        "  print(a)\n",
        "  a += 1\n"
      ],
      "metadata": {
        "colab": {
          "base_uri": "https://localhost:8080/"
        },
        "collapsed": true,
        "id": "M6IlytxvOcc-",
        "outputId": "7b31b16b-5306-4407-ccc7-00c8b7142574"
      },
      "execution_count": null,
      "outputs": [
        {
          "output_type": "stream",
          "name": "stdout",
          "text": [
            "0\n",
            "1\n",
            "2\n",
            "3\n",
            "4\n",
            "5\n",
            "6\n",
            "7\n",
            "8\n",
            "9\n",
            "10\n",
            "11\n",
            "12\n",
            "13\n",
            "14\n",
            "15\n",
            "16\n",
            "17\n",
            "18\n",
            "19\n",
            "20\n",
            "21\n",
            "22\n",
            "23\n",
            "24\n",
            "25\n",
            "26\n",
            "27\n",
            "28\n",
            "29\n",
            "30\n",
            "31\n",
            "32\n",
            "33\n",
            "34\n",
            "35\n",
            "36\n",
            "37\n",
            "38\n",
            "39\n",
            "40\n",
            "41\n",
            "42\n",
            "43\n",
            "44\n",
            "45\n",
            "46\n",
            "47\n",
            "48\n",
            "49\n",
            "50\n",
            "51\n",
            "52\n",
            "53\n",
            "54\n",
            "55\n",
            "56\n",
            "57\n",
            "58\n",
            "59\n",
            "60\n",
            "61\n",
            "62\n",
            "63\n",
            "64\n",
            "65\n",
            "66\n",
            "67\n",
            "68\n",
            "69\n",
            "70\n",
            "71\n",
            "72\n",
            "73\n",
            "74\n",
            "75\n",
            "76\n",
            "77\n",
            "78\n",
            "79\n",
            "80\n",
            "81\n",
            "82\n",
            "83\n",
            "84\n",
            "85\n",
            "86\n",
            "87\n",
            "88\n",
            "89\n",
            "90\n",
            "91\n",
            "92\n",
            "93\n",
            "94\n",
            "95\n",
            "96\n",
            "97\n",
            "98\n",
            "99\n"
          ]
        }
      ]
    },
    {
      "cell_type": "code",
      "source": [
        "# prompt: que esta forma cuente de 0 a 99\n",
        "# b = True\n",
        "# while (b==100):\n",
        "#   break\n",
        "# print(b)\n",
        "# b += 1\n",
        "\n",
        "b = 0\n",
        "while b < 100:\n",
        "  print(b)\n",
        "  b += 1"
      ],
      "metadata": {
        "id": "62EWkKOOQTCW"
      },
      "execution_count": null,
      "outputs": []
    },
    {
      "cell_type": "code",
      "source": [
        "b = True\n",
        "while (b==100):\n",
        "  break\n",
        "print(b)\n",
        "b += 1"
      ],
      "metadata": {
        "colab": {
          "base_uri": "https://localhost:8080/"
        },
        "id": "F8ehjw3xOgIf",
        "outputId": "70059584-5bb3-4d8f-e24c-ea41902ad781"
      },
      "execution_count": null,
      "outputs": [
        {
          "output_type": "stream",
          "name": "stdout",
          "text": [
            "True\n"
          ]
        }
      ]
    },
    {
      "cell_type": "code",
      "source": [
        "for i in range(100):\n",
        "  print(i)\n",
        "  i += 1"
      ],
      "metadata": {
        "colab": {
          "base_uri": "https://localhost:8080/"
        },
        "collapsed": true,
        "id": "3wuqIIXrPwJa",
        "outputId": "f079f2ff-7a6d-4a91-a330-c1d6a00df2f4"
      },
      "execution_count": null,
      "outputs": [
        {
          "output_type": "stream",
          "name": "stdout",
          "text": [
            "0\n",
            "1\n",
            "2\n",
            "3\n",
            "4\n",
            "5\n",
            "6\n",
            "7\n",
            "8\n",
            "9\n",
            "10\n",
            "11\n",
            "12\n",
            "13\n",
            "14\n",
            "15\n",
            "16\n",
            "17\n",
            "18\n",
            "19\n",
            "20\n",
            "21\n",
            "22\n",
            "23\n",
            "24\n",
            "25\n",
            "26\n",
            "27\n",
            "28\n",
            "29\n",
            "30\n",
            "31\n",
            "32\n",
            "33\n",
            "34\n",
            "35\n",
            "36\n",
            "37\n",
            "38\n",
            "39\n",
            "40\n",
            "41\n",
            "42\n",
            "43\n",
            "44\n",
            "45\n",
            "46\n",
            "47\n",
            "48\n",
            "49\n",
            "50\n",
            "51\n",
            "52\n",
            "53\n",
            "54\n",
            "55\n",
            "56\n",
            "57\n",
            "58\n",
            "59\n",
            "60\n",
            "61\n",
            "62\n",
            "63\n",
            "64\n",
            "65\n",
            "66\n",
            "67\n",
            "68\n",
            "69\n",
            "70\n",
            "71\n",
            "72\n",
            "73\n",
            "74\n",
            "75\n",
            "76\n",
            "77\n",
            "78\n",
            "79\n",
            "80\n",
            "81\n",
            "82\n",
            "83\n",
            "84\n",
            "85\n",
            "86\n",
            "87\n",
            "88\n",
            "89\n",
            "90\n",
            "91\n",
            "92\n",
            "93\n",
            "94\n",
            "95\n",
            "96\n",
            "97\n",
            "98\n",
            "99\n"
          ]
        }
      ]
    },
    {
      "cell_type": "markdown",
      "source": [
        "# Lista vs arreglo"
      ],
      "metadata": {
        "id": "Y0bk1nEWQEb4"
      }
    },
    {
      "cell_type": "code",
      "source": [
        "# prompt: lista vs arreglos\n",
        "\n",
        "# Lista vs. Arreglos en Python\n",
        "\n",
        "# En Python, las listas son estructuras de datos que se utilizan para almacenar una\n",
        "# colección ordenada de elementos. Son muy versátiles y pueden contener diferentes\n",
        "# tipos de datos, como números, cadenas de texto, booleanos, e incluso otras listas.\n",
        "\n",
        "\n",
        "# Las listas en Python son dinámicas, lo que significa que pueden crecer o disminuir\n",
        "# de tamaño a medida que se agregan o eliminan elementos.\n",
        "\n",
        "# Ejemplo de lista en Python:\n",
        "\n",
        "mi_lista = [1, 2, 3, \"hola\", True]\n",
        "\n",
        "# En otros lenguajes de programación, los arreglos (arrays) suelen ser estructuras de\n",
        "# datos estáticas, lo que significa que su tamaño se define al momento de la creación y\n",
        "# no puede cambiar. Además, en muchos lenguajes, los arreglos solo pueden contener\n",
        "# elementos del mismo tipo de dato.\n",
        "\n",
        "# Python no tiene arreglos en el sentido tradicional, ya que las listas pueden\n",
        "# realizar la mayoría de las funciones que un arreglo podría realizar.\n",
        "\n",
        "# Si necesitas un comportamiento similar al de un arreglo en otros lenguajes,\n",
        "# puedes usar la librería NumPy, que proporciona el objeto ndarray para trabajar\n",
        "# con arreglos multidimensionales de datos numéricos.\n",
        "\n",
        "# Ejemplo de uso de NumPy para trabajar con arreglos:\n",
        "\n",
        "import numpy as np\n",
        "\n",
        "mi_arreglo = np.array([1, 2, 3, 4, 5])\n",
        "mi_arreglo\n",
        "\n",
        "# En resumen, en Python, las listas son estructuras de datos dinámicas y versátiles\n",
        "# que pueden utilizarse para almacenar una colección ordenada de elementos de\n",
        "# diferentes tipos.\n",
        "# Si necesitas un comportamiento similar al de los arreglos en otros lenguajes,\n",
        "# puedes usar la librería NumPy."
      ],
      "metadata": {
        "colab": {
          "base_uri": "https://localhost:8080/"
        },
        "id": "s-4_8Z0lPXJ1",
        "outputId": "478a9e74-3d28-474b-a88c-bd0577fbadfe"
      },
      "execution_count": null,
      "outputs": [
        {
          "output_type": "execute_result",
          "data": {
            "text/plain": [
              "array([1, 2, 3, 4, 5])"
            ]
          },
          "metadata": {},
          "execution_count": 15
        }
      ]
    },
    {
      "cell_type": "code",
      "source": [
        "mi_lista_array = np.array(mi_lista)\n",
        "print(mi_lista_array, type(mi_lista_array[0])) # Se convierte la lista en arreglo y numpy convierte todo a string por que solo puede tener un tipo de dato en cada arreglo"
      ],
      "metadata": {
        "colab": {
          "base_uri": "https://localhost:8080/"
        },
        "id": "NO2yn_-VQe_p",
        "outputId": "eb2f5fce-b4dd-429b-e15c-5dafe4b64621"
      },
      "execution_count": null,
      "outputs": [
        {
          "output_type": "stream",
          "name": "stdout",
          "text": [
            "['1' '2' '3' 'hola' 'True'] <class 'numpy.str_'>\n"
          ]
        }
      ]
    },
    {
      "cell_type": "markdown",
      "source": [
        "# Matrices"
      ],
      "metadata": {
        "id": "1BLzN-wCQ5_d"
      }
    },
    {
      "cell_type": "code",
      "source": [
        "m1 = np.array([[1, 2, 3], [4, 5, 6]])\n",
        "m2 = np.array([[7, 8, 9], [10, 11, 12]])\n",
        "print(m1)\n",
        "print(m2)"
      ],
      "metadata": {
        "colab": {
          "base_uri": "https://localhost:8080/"
        },
        "id": "x537V276QpPd",
        "outputId": "b3d01a3e-524e-40f4-9384-b91c809f164b"
      },
      "execution_count": null,
      "outputs": [
        {
          "output_type": "stream",
          "name": "stdout",
          "text": [
            "[[1 2 3]\n",
            " [4 5 6]]\n",
            "[[ 7  8  9]\n",
            " [10 11 12]]\n"
          ]
        }
      ]
    },
    {
      "cell_type": "code",
      "source": [
        "m1/m2, m1*m2\n",
        "# prompt: que operacion hace m1/m2\n",
        "\n",
        "# m1 = [[1, 2, 3],\n",
        "#       [4, 5, 6]]\n",
        "\n",
        "# m2 = [[7, 8, 9],\n",
        "#       [10, 11, 12]]\n",
        "\n",
        "# m1 / m2 = [[1/7, 2/8, 3/9],\n",
        "#            [4/10, 5/11, 6/12]]"
      ],
      "metadata": {
        "colab": {
          "base_uri": "https://localhost:8080/"
        },
        "id": "gSumlnsmRe0A",
        "outputId": "62da7b48-b3fb-419d-bd82-bca9a34bc7ad"
      },
      "execution_count": null,
      "outputs": [
        {
          "output_type": "execute_result",
          "data": {
            "text/plain": [
              "(array([[0.14285714, 0.25      , 0.33333333],\n",
              "        [0.4       , 0.45454545, 0.5       ]]),\n",
              " array([[ 7, 16, 27],\n",
              "        [40, 55, 72]]))"
            ]
          },
          "metadata": {},
          "execution_count": 21
        }
      ]
    },
    {
      "cell_type": "code",
      "source": [
        "# m1@m2, para esta linea de codigo, sale el siguiente error, matrices 2*3 y 2*3\n",
        "# ---------------------------------------------------------------------------\n",
        "# ValueError                                Traceback (most recent call last)\n",
        "# <ipython-input-23-3b385cc8ab71> in <cell line: 1>()\n",
        "# ----> 1 m1@m2\n",
        "\n",
        "# ValueError: matmul: Input operand 1 has a mismatch in its core dimension 0, with gufunc signature (n?,k),(k,m?)->(n?,m?) (size 2 is different from 3)\n",
        "\n",
        "\n",
        "m1@m2.T #En operaciones matriciales se debe tener en cuenta las dimenciones de las matrices, matrices 2*3 y 3*2"
      ],
      "metadata": {
        "colab": {
          "base_uri": "https://localhost:8080/"
        },
        "id": "9h-2t1mZSBDh",
        "outputId": "eb2a7ec4-6ae4-4824-e3e1-77f0bf5e3133"
      },
      "execution_count": null,
      "outputs": [
        {
          "output_type": "execute_result",
          "data": {
            "text/plain": [
              "array([[ 50,  68],\n",
              "       [122, 167]])"
            ]
          },
          "metadata": {},
          "execution_count": 27
        }
      ]
    },
    {
      "cell_type": "code",
      "source": [
        "m1.dot(m2.T) #Otra forma de hacer la operacion"
      ],
      "metadata": {
        "colab": {
          "base_uri": "https://localhost:8080/"
        },
        "id": "ELa7svLwSGV-",
        "outputId": "e23aa240-12d9-4431-bcb0-54bb2a2318d5"
      },
      "execution_count": null,
      "outputs": [
        {
          "output_type": "execute_result",
          "data": {
            "text/plain": [
              "array([[ 50,  68],\n",
              "       [122, 167]])"
            ]
          },
          "metadata": {},
          "execution_count": 25
        }
      ]
    },
    {
      "cell_type": "code",
      "source": [
        "np.matmul(m1, m2.T) #Otra forma de hacer la operacion"
      ],
      "metadata": {
        "colab": {
          "base_uri": "https://localhost:8080/"
        },
        "id": "_lWLZL3WSlhA",
        "outputId": "1c06870a-4610-4412-ba48-c0e679216ba6"
      },
      "execution_count": null,
      "outputs": [
        {
          "output_type": "execute_result",
          "data": {
            "text/plain": [
              "array([[ 50,  68],\n",
              "       [122, 167]])"
            ]
          },
          "metadata": {},
          "execution_count": 26
        }
      ]
    },
    {
      "cell_type": "markdown",
      "source": [
        "# Funciones"
      ],
      "metadata": {
        "id": "sNJYx57aTMtw"
      }
    },
    {
      "cell_type": "code",
      "source": [
        "from scipy import signal\n",
        "from matplotlib import pyplot as plt\n",
        "\n",
        "\n",
        "def dirac(x):\n",
        "  y = signal.unit_impulse(len(x), idx=len(x)//2)\n",
        "  plt.plot(x, y)\n",
        "  plt.grid()\n",
        "  plt.xlim(-10,10)\n",
        "  plt.xlabel('Tiempo (s)')\n",
        "  plt.ylabel('Amplitud')\n",
        "  plt.title('Dirac')\n",
        "  plt.show()\n",
        "  return signal.unit_impulse(len(x), idx=0)\n",
        "\n",
        "\n",
        "x = np.linspace(-10, 10, 100)\n",
        "dirac(x)\n"
      ],
      "metadata": {
        "colab": {
          "base_uri": "https://localhost:8080/",
          "height": 576
        },
        "id": "uDIxd-5XSpBP",
        "outputId": "b92c6640-4afd-4a5d-83eb-e73774cfbbcd"
      },
      "execution_count": null,
      "outputs": [
        {
          "output_type": "display_data",
          "data": {
            "text/plain": [
              "<Figure size 640x480 with 1 Axes>"
            ],
            "image/png": "[encoded data removed]"
          },
          "metadata": {}
        },
        {
          "output_type": "execute_result",
          "data": {
            "text/plain": [
              "array([1., 0., 0., 0., 0., 0., 0., 0., 0., 0., 0., 0., 0., 0., 0., 0., 0.,\n",
              "       0., 0., 0., 0., 0., 0., 0., 0., 0., 0., 0., 0., 0., 0., 0., 0., 0.,\n",
              "       0., 0., 0., 0., 0., 0., 0., 0., 0., 0., 0., 0., 0., 0., 0., 0., 0.,\n",
              "       0., 0., 0., 0., 0., 0., 0., 0., 0., 0., 0., 0., 0., 0., 0., 0., 0.,\n",
              "       0., 0., 0., 0., 0., 0., 0., 0., 0., 0., 0., 0., 0., 0., 0., 0., 0.,\n",
              "       0., 0., 0., 0., 0., 0., 0., 0., 0., 0., 0., 0., 0., 0., 0.])"
            ]
          },
          "metadata": {},
          "execution_count": 40
        }
      ]
    },
    {
      "cell_type": "code",
      "source": [
        "\n",
        "def dirac_delta(x, center=0, width=0.1):\n",
        "  \"\"\"\n",
        "  Genera una aproximación de la delta de Dirac.\n",
        "\n",
        "  Args:\n",
        "    x: Un array de valores en el eje x.\n",
        "    center: El centro de la delta de Dirac.\n",
        "    width: El ancho de la delta de Dirac.\n",
        "\n",
        "  Returns:\n",
        "    Un array con la aproximación de la delta de Dirac.\n",
        "  \"\"\"\n",
        "  y = np.zeros_like(x)\n",
        "  y[(x >= center - width / 2) & (x <= center + width / 2)] = 1 / width\n",
        "  return y\n",
        "\n",
        "# Crear el eje x\n",
        "x = np.linspace(-5, 5, 1000)\n",
        "\n",
        "# Generar la delta de Dirac\n",
        "delta = dirac_delta(x)\n",
        "\n",
        "# Graficar\n",
        "plt.plot(x, delta)\n",
        "plt.xlabel('x')\n",
        "plt.ylabel('δ(x)')\n",
        "plt.title('Delta de Dirac')\n",
        "plt.grid(True)\n",
        "plt.show()"
      ],
      "metadata": {
        "colab": {
          "base_uri": "https://localhost:8080/",
          "height": 472
        },
        "id": "5W6J-mSVUCof",
        "outputId": "3b93e720-3548-47cc-d5dd-762e0e1e9518"
      },
      "execution_count": null,
      "outputs": [
        {
          "output_type": "display_data",
          "data": {
            "text/plain": [
              "<Figure size 640x480 with 1 Axes>"
            ],
            "image/png": "[encoded data removed]"
          },
          "metadata": {}
        }
      ]
    },
    {
      "cell_type": "code",
      "source": [
        "def deltadirac(x,x0):\n",
        "  aux = np.zeros_like(x)\n",
        "  cont = 0\n",
        "  for i in x:\n",
        "    if round(i,7) == x0:\n",
        "      aux[cont] = 1\n",
        "    else:\n",
        "      aux[cont] = 0\n",
        "    cont += 1\n",
        "  return np.array(aux)\n",
        "\n",
        "t = np.arange(-10,10,0.1)\n",
        "y = deltadirac(t,0)\n",
        "plt.plot(t,y, 'b.')\n",
        "plt.show()"
      ],
      "metadata": {
        "colab": {
          "base_uri": "https://localhost:8080/",
          "height": 430
        },
        "id": "j73VM3aqVh9_",
        "outputId": "f48a17f9-f4d7-4c82-c3d3-42a985418f00"
      },
      "execution_count": null,
      "outputs": [
        {
          "output_type": "display_data",
          "data": {
            "text/plain": [
              "<Figure size 640x480 with 1 Axes>"
            ],
            "image/png": "[encoded data removed]"
          },
          "metadata": {}
        }
      ]
    },
    {
      "cell_type": "code",
      "source": [
        "def deltadirac(**kwargs): # Se usa kwargs para cuando no se sabe que variables va anecesitar en la función\n",
        "  aux = np.zeros_like(x)\n",
        "  cont = 0\n",
        "  for i in x:\n",
        "    if round(i,7) == x0:\n",
        "      aux[cont] = 1\n",
        "    else:\n",
        "      aux[cont] = 0\n",
        "    cont += 1\n",
        "  print(kwargs['w'])\n",
        "  print(kwargs['h'])\n",
        "  return np.array(aux)\n",
        "\n"
      ],
      "metadata": {
        "id": "uF16YyerVi9P"
      },
      "execution_count": null,
      "outputs": []
    },
    {
      "cell_type": "code",
      "source": [
        "x0 = 0\n",
        "deltadirac(w='hola mundo', t = t, x0 = x0, h ='adios')"
      ],
      "metadata": {
        "colab": {
          "base_uri": "https://localhost:8080/"
        },
        "collapsed": true,
        "id": "eJuI0ACwY_Up",
        "outputId": "78b2d367-68cf-43e1-d653-c83d52e8f129"
      },
      "execution_count": null,
      "outputs": [
        {
          "output_type": "stream",
          "name": "stdout",
          "text": [
            "hola mundo\n",
            "adios\n"
          ]
        },
        {
          "output_type": "execute_result",
          "data": {
            "text/plain": [
              "array([0., 0., 0., 0., 0., 0., 0., 0., 0., 0., 0., 0., 0., 0., 0., 0., 0.,\n",
              "       0., 0., 0., 0., 0., 0., 0., 0., 0., 0., 0., 0., 0., 0., 0., 0., 0.,\n",
              "       0., 0., 0., 0., 0., 0., 0., 0., 0., 0., 0., 0., 0., 0., 0., 0., 0.,\n",
              "       0., 0., 0., 0., 0., 0., 0., 0., 0., 0., 0., 0., 0., 0., 0., 0., 0.,\n",
              "       0., 0., 0., 0., 0., 0., 0., 0., 0., 0., 0., 0., 0., 0., 0., 0., 0.,\n",
              "       0., 0., 0., 0., 0., 0., 0., 0., 0., 0., 0., 0., 0., 0., 0., 0., 0.,\n",
              "       0., 0., 0., 0., 0., 0., 0., 0., 0., 0., 0., 0., 0., 0., 0., 0., 0.,\n",
              "       0., 0., 0., 0., 0., 0., 0., 0., 0., 0., 0., 0., 0., 0., 0., 0., 0.,\n",
              "       0., 0., 0., 0., 0., 0., 0., 0., 0., 0., 0., 0., 0., 0., 0., 0., 0.,\n",
              "       0., 0., 0., 0., 0., 0., 0., 0., 0., 0., 0., 0., 0., 0., 0., 0., 0.,\n",
              "       0., 0., 0., 0., 0., 0., 0., 0., 0., 0., 0., 0., 0., 0., 0., 0., 0.,\n",
              "       0., 0., 0., 0., 0., 0., 0., 0., 0., 0., 0., 0., 0., 0., 0., 0., 0.,\n",
              "       0., 0., 0., 0., 0., 0., 0., 0., 0., 0., 0., 0., 0., 0., 0., 0., 0.,\n",
              "       0., 0., 0., 0., 0., 0., 0., 0., 0., 0., 0., 0., 0., 0., 0., 0., 0.,\n",
              "       0., 0., 0., 0., 0., 0., 0., 0., 0., 0., 0., 0., 0., 0., 0., 0., 0.,\n",
              "       0., 0., 0., 0., 0., 0., 0., 0., 0., 0., 0., 0., 0., 0., 0., 0., 0.,\n",
              "       0., 0., 0., 0., 0., 0., 0., 0., 0., 0., 0., 0., 0., 0., 0., 0., 0.,\n",
              "       0., 0., 0., 0., 0., 0., 0., 0., 0., 0., 0., 0., 0., 0., 0., 0., 0.,\n",
              "       0., 0., 0., 0., 0., 0., 0., 0., 0., 0., 0., 0., 0., 0., 0., 0., 0.,\n",
              "       0., 0., 0., 0., 0., 0., 0., 0., 0., 0., 0., 0., 0., 0., 0., 0., 0.,\n",
              "       0., 0., 0., 0., 0., 0., 0., 0., 0., 0., 0., 0., 0., 0., 0., 0., 0.,\n",
              "       0., 0., 0., 0., 0., 0., 0., 0., 0., 0., 0., 0., 0., 0., 0., 0., 0.,\n",
              "       0., 0., 0., 0., 0., 0., 0., 0., 0., 0., 0., 0., 0., 0., 0., 0., 0.,\n",
              "       0., 0., 0., 0., 0., 0., 0., 0., 0., 0., 0., 0., 0., 0., 0., 0., 0.,\n",
              "       0., 0., 0., 0., 0., 0., 0., 0., 0., 0., 0., 0., 0., 0., 0., 0., 0.,\n",
              "       0., 0., 0., 0., 0., 0., 0., 0., 0., 0., 0., 0., 0., 0., 0., 0., 0.,\n",
              "       0., 0., 0., 0., 0., 0., 0., 0., 0., 0., 0., 0., 0., 0., 0., 0., 0.,\n",
              "       0., 0., 0., 0., 0., 0., 0., 0., 0., 0., 0., 0., 0., 0., 0., 0., 0.,\n",
              "       0., 0., 0., 0., 0., 0., 0., 0., 0., 0., 0., 0., 0., 0., 0., 0., 0.,\n",
              "       0., 0., 0., 0., 0., 0., 0., 0., 0., 0., 0., 0., 0., 0., 0., 0., 0.,\n",
              "       0., 0., 0., 0., 0., 0., 0., 0., 0., 0., 0., 0., 0., 0., 0., 0., 0.,\n",
              "       0., 0., 0., 0., 0., 0., 0., 0., 0., 0., 0., 0., 0., 0., 0., 0., 0.,\n",
              "       0., 0., 0., 0., 0., 0., 0., 0., 0., 0., 0., 0., 0., 0., 0., 0., 0.,\n",
              "       0., 0., 0., 0., 0., 0., 0., 0., 0., 0., 0., 0., 0., 0., 0., 0., 0.,\n",
              "       0., 0., 0., 0., 0., 0., 0., 0., 0., 0., 0., 0., 0., 0., 0., 0., 0.,\n",
              "       0., 0., 0., 0., 0., 0., 0., 0., 0., 0., 0., 0., 0., 0., 0., 0., 0.,\n",
              "       0., 0., 0., 0., 0., 0., 0., 0., 0., 0., 0., 0., 0., 0., 0., 0., 0.,\n",
              "       0., 0., 0., 0., 0., 0., 0., 0., 0., 0., 0., 0., 0., 0., 0., 0., 0.,\n",
              "       0., 0., 0., 0., 0., 0., 0., 0., 0., 0., 0., 0., 0., 0., 0., 0., 0.,\n",
              "       0., 0., 0., 0., 0., 0., 0., 0., 0., 0., 0., 0., 0., 0., 0., 0., 0.,\n",
              "       0., 0., 0., 0., 0., 0., 0., 0., 0., 0., 0., 0., 0., 0., 0., 0., 0.,\n",
              "       0., 0., 0., 0., 0., 0., 0., 0., 0., 0., 0., 0., 0., 0., 0., 0., 0.,\n",
              "       0., 0., 0., 0., 0., 0., 0., 0., 0., 0., 0., 0., 0., 0., 0., 0., 0.,\n",
              "       0., 0., 0., 0., 0., 0., 0., 0., 0., 0., 0., 0., 0., 0., 0., 0., 0.,\n",
              "       0., 0., 0., 0., 0., 0., 0., 0., 0., 0., 0., 0., 0., 0., 0., 0., 0.,\n",
              "       0., 0., 0., 0., 0., 0., 0., 0., 0., 0., 0., 0., 0., 0., 0., 0., 0.,\n",
              "       0., 0., 0., 0., 0., 0., 0., 0., 0., 0., 0., 0., 0., 0., 0., 0., 0.,\n",
              "       0., 0., 0., 0., 0., 0., 0., 0., 0., 0., 0., 0., 0., 0., 0., 0., 0.,\n",
              "       0., 0., 0., 0., 0., 0., 0., 0., 0., 0., 0., 0., 0., 0., 0., 0., 0.,\n",
              "       0., 0., 0., 0., 0., 0., 0., 0., 0., 0., 0., 0., 0., 0., 0., 0., 0.,\n",
              "       0., 0., 0., 0., 0., 0., 0., 0., 0., 0., 0., 0., 0., 0., 0., 0., 0.,\n",
              "       0., 0., 0., 0., 0., 0., 0., 0., 0., 0., 0., 0., 0., 0., 0., 0., 0.,\n",
              "       0., 0., 0., 0., 0., 0., 0., 0., 0., 0., 0., 0., 0., 0., 0., 0., 0.,\n",
              "       0., 0., 0., 0., 0., 0., 0., 0., 0., 0., 0., 0., 0., 0., 0., 0., 0.,\n",
              "       0., 0., 0., 0., 0., 0., 0., 0., 0., 0., 0., 0., 0., 0., 0., 0., 0.,\n",
              "       0., 0., 0., 0., 0., 0., 0., 0., 0., 0., 0., 0., 0., 0., 0., 0., 0.,\n",
              "       0., 0., 0., 0., 0., 0., 0., 0., 0., 0., 0., 0., 0., 0., 0., 0., 0.,\n",
              "       0., 0., 0., 0., 0., 0., 0., 0., 0., 0., 0., 0., 0., 0., 0., 0., 0.,\n",
              "       0., 0., 0., 0., 0., 0., 0., 0., 0., 0., 0., 0., 0., 0.])"
            ]
          },
          "metadata": {},
          "execution_count": 79
        }
      ]
    },
    {
      "cell_type": "markdown",
      "source": [
        "# Clases"
      ],
      "metadata": {
        "id": "-7dUYf5zaCO3"
      }
    },
    {
      "cell_type": "code",
      "source": [
        "class coche:\n",
        "  marca = 'toyota'\n",
        "  modelo = 'corolla'\n",
        "  color = 'rojo'"
      ],
      "metadata": {
        "id": "sz-KwHdCaEff"
      },
      "execution_count": null,
      "outputs": []
    },
    {
      "cell_type": "code",
      "source": [
        "class perro:\n",
        "  def __init__(self, nombre, raza, edad, tamaño):\n",
        "    self.nombre = nombre\n",
        "    self.raza = raza\n",
        "    self.edad = edad\n",
        "    self.tamaño = tamaño\n",
        "\n",
        "  def __call__(self):\n",
        "    print('hola soy un perro')\n",
        "    self.ladrar()\n",
        "    self.dormir()\n",
        "    self.comer()\n",
        "\n",
        "  def ladrar(self):\n",
        "    print('guau guau')\n",
        "\n",
        "  def comer(self):\n",
        "    print('comiendo')\n",
        "\n",
        "  def dormir(self):\n",
        "    print('durmiendo')"
      ],
      "metadata": {
        "id": "9x4sJ22GaVYO"
      },
      "execution_count": null,
      "outputs": []
    },
    {
      "cell_type": "code",
      "source": [
        "man = perro ('Man', 'labrador', '13', 'grande')"
      ],
      "metadata": {
        "id": "ljk7JFqiaNFd"
      },
      "execution_count": null,
      "outputs": []
    },
    {
      "cell_type": "code",
      "source": [
        "man(), man.raza, man.nombre, man.edad, man.tamaño, man.ladrar()"
      ],
      "metadata": {
        "colab": {
          "base_uri": "https://localhost:8080/"
        },
        "id": "FoiZJ8ESbMgv",
        "outputId": "c3fb598b-220e-4670-ce02-f74fc35f4b46"
      },
      "execution_count": null,
      "outputs": [
        {
          "output_type": "stream",
          "name": "stdout",
          "text": [
            "hola soy un perro\n",
            "guau guau\n",
            "durmiendo\n",
            "comiendo\n",
            "guau guau\n"
          ]
        },
        {
          "output_type": "execute_result",
          "data": {
            "text/plain": [
              "(None, 'labrador', 'Man', '13', 'grande', None)"
            ]
          },
          "metadata": {},
          "execution_count": 65
        }
      ]
    },
    {
      "cell_type": "code",
      "source": [
        "class empleado:\n",
        "  def __init__(self, nombre, edad, puesto, salario):\n",
        "    self.nombre = nombre\n",
        "    self.edad = edad\n",
        "    self.puesto = puesto\n",
        "    self.salario = salario\n",
        "  def obtener_salario(self):\n",
        "    return self.salario\n",
        "\n",
        "class ajustesalarioempleado(empleado):\n",
        "  def __init__(self, nombre, edad, puesto, salario, porcentaje):\n",
        "    super().__init__(nombre, edad, puesto, salario)\n",
        "    self.porcentaje = porcentaje\n",
        "\n",
        "  def obtener_salario_ajustado(self):\n",
        "    return self.salario * (1 + self.porcentaje/100)"
      ],
      "metadata": {
        "id": "rGcjzBgObNgt"
      },
      "execution_count": null,
      "outputs": []
    },
    {
      "cell_type": "code",
      "source": [
        "em1 = empleado('juan', 23, 'ingeniero', 10000)\n",
        "em1.obtener_salario()"
      ],
      "metadata": {
        "colab": {
          "base_uri": "https://localhost:8080/"
        },
        "id": "yMB6WcUFcXy6",
        "outputId": "9b866e22-ef0e-4641-cb16-138c81757781"
      },
      "execution_count": null,
      "outputs": [
        {
          "output_type": "execute_result",
          "data": {
            "text/plain": [
              "10000"
            ]
          },
          "metadata": {},
          "execution_count": 68
        }
      ]
    },
    {
      "cell_type": "code",
      "source": [
        "em2 = ajustesalarioempleado('juan', 23, 'ingeniero', 10000, 10)\n",
        "em2.obtener_salario(), em2.obtener_salario_ajustado()"
      ],
      "metadata": {
        "colab": {
          "base_uri": "https://localhost:8080/"
        },
        "id": "5_Y4tRvpcj9P",
        "outputId": "3716861b-14fd-4e5b-88e9-f5fa7adad722"
      },
      "execution_count": null,
      "outputs": [
        {
          "output_type": "execute_result",
          "data": {
            "text/plain": [
              "(10000, 11000.0)"
            ]
          },
          "metadata": {},
          "execution_count": 76
        }
      ]
    },
    {
      "cell_type": "code",
      "source": [
        "em2.porcentaje, em2.nombre"
      ],
      "metadata": {
        "colab": {
          "base_uri": "https://localhost:8080/"
        },
        "id": "l2FF8i4CdYUP",
        "outputId": "ab4ad392-0967-46d0-f474-085ee6ffea07"
      },
      "execution_count": null,
      "outputs": [
        {
          "output_type": "execute_result",
          "data": {
            "text/plain": [
              "(10, 'juan')"
            ]
          },
          "metadata": {},
          "execution_count": 77
        }
      ]
    },
    {
      "cell_type": "markdown",
      "source": [
        "# Tarea\n",
        "\n",
        "Define una clase llamada producto que tenga un constructor (__init__), que reciba el mnombre del producto y su precio base. incluye un metodo llamado obtener_precio que devuelva el precio base\n",
        "\n",
        "Luego crea una clase derivada llamada productocondescuento que herede de producto. en el contrustor de esta clase derivada, ademas de los parametros del nombre y el precio base, recibe un porcentaje de descuento. define un metodo obtener_precio_final que calcule y devuelva el precio final del producto despues de aplicar el descuento. usa super() para inicializar los atributos heredados de la clase base"
      ],
      "metadata": {
        "id": "VZVZW7kDefEr"
      }
    },
    {
      "cell_type": "code",
      "source": [
        "class producto:\n",
        "  def __init__(self, nombre, precio_base):\n",
        "    self.nombre = nombre\n",
        "    self.precio_base = precio_base\n",
        "\n",
        "  def obtener_precio(self):\n",
        "    print(f'El precio del producto {self.nombre} es {self.precio_base}')\n",
        "    return self.precio_base\n",
        "\n",
        "class producto_con_descuento(producto):\n",
        "  def __init__(self, nombre, precio_base, descuento):\n",
        "    super().__init__(nombre, precio_base)\n",
        "    self.descuento = descuento\n",
        "\n",
        "  def obtener_precio_final(self):\n",
        "    print(f'El precio final del producto {self.nombre} es {self.precio_base * (1 - self.descuento/100)} con un descuento de {self.descuento}%')\n",
        "    return self.precio_base * (1 - self.descuento/100)\n"
      ],
      "metadata": {
        "id": "TV_igGzJfT8h"
      },
      "execution_count": null,
      "outputs": []
    },
    {
      "cell_type": "code",
      "source": [
        "p1 = producto('manzana', 10)\n",
        "p2 = producto_con_descuento('manzana', 10, 10)"
      ],
      "metadata": {
        "id": "2DSM0Yhnfs24"
      },
      "execution_count": null,
      "outputs": []
    },
    {
      "cell_type": "code",
      "source": [
        "p1.obtener_precio()"
      ],
      "metadata": {
        "colab": {
          "base_uri": "https://localhost:8080/"
        },
        "id": "Qp4laUiTfwuC",
        "outputId": "3af6c085-6cec-4611-c7b7-9daabe395811"
      },
      "execution_count": null,
      "outputs": [
        {
          "output_type": "stream",
          "name": "stdout",
          "text": [
            "El precio del producto manzana es 10\n"
          ]
        },
        {
          "output_type": "execute_result",
          "data": {
            "text/plain": [
              "10"
            ]
          },
          "metadata": {},
          "execution_count": 98
        }
      ]
    },
    {
      "cell_type": "code",
      "source": [
        "p2.obtener_precio_final()"
      ],
      "metadata": {
        "colab": {
          "base_uri": "https://localhost:8080/"
        },
        "id": "U1JhDeSNf5qB",
        "outputId": "a7e2d0a9-323e-4496-ceff-5dfed4807316"
      },
      "execution_count": null,
      "outputs": [
        {
          "output_type": "stream",
          "name": "stdout",
          "text": [
            "El precio final del producto manzana es 9.0 con un descuento de 10%\n"
          ]
        },
        {
          "output_type": "execute_result",
          "data": {
            "text/plain": [
              "9.0"
            ]
          },
          "metadata": {},
          "execution_count": 99
        }
      ]
    }
  ]
}